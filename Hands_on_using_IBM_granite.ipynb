{
  "nbformat": 4,
  "nbformat_minor": 0,
  "metadata": {
    "colab": {
      "provenance": [],
      "authorship_tag": "ABX9TyPgESC/xEuR7M+Ax9voIdon",
      "include_colab_link": true
    },
    "kernelspec": {
      "name": "python3",
      "display_name": "Python 3"
    },
    "language_info": {
      "name": "python"
    }
  },
  "cells": [
    {
      "cell_type": "markdown",
      "metadata": {
        "id": "view-in-github",
        "colab_type": "text"
      },
      "source": [
        "<a href=\"https://colab.research.google.com/github/fajarathallah/Data_calassification_and-summary_text/blob/main/Hands_on_using_IBM_granite.ipynb\" target=\"_parent\"><img src=\"https://colab.research.google.com/assets/colab-badge.svg\" alt=\"Open In Colab\"/></a>"
      ]
    },
    {
      "cell_type": "code",
      "execution_count": null,
      "metadata": {
        "id": "7JflIaUs47AN"
      },
      "outputs": [],
      "source": [
        "!pip install langchain_community\n",
        "!pip install replicate"
      ]
    },
    {
      "cell_type": "code",
      "source": [
        "from langchain_community.llms import Replicate\n",
        "import os\n",
        "from google.colab import userdata\n",
        "# Set the API token\n",
        "api_token = userdata.get('api_token')\n",
        "os.environ[\"REPLICATE_API_TOKEN\"] = api_token\n",
        "# Model setup\n",
        "model = \"ibm-granite/granite-3.3-8b-instruct\"\n",
        "output = Replicate(\n",
        "model=model,\n",
        "replicate_api_token=api_token,\n",
        ")"
      ],
      "metadata": {
        "id": "Jbm6jlIvMGWz"
      },
      "execution_count": null,
      "outputs": []
    },
    {
      "cell_type": "code",
      "source": [
        "# Define the customer reviews\n",
        "customer_reviews = [\n",
        "\"The battery lasts all day, and the performance is excellent.\",\n",
        "\"The screen is too dim outdoors, but I love the colors indoors.\",\n",
        "\"This phone is slow and keeps crashing when I open certain apps.\"\n",
        "]\n",
        "# Refine the prompt to include reviews\n",
        "reviews_text = \"\\n\".join([f\"Review {i+1}: {review}\" for i, review\n",
        "in enumerate(customer_reviews)])\n",
        "\n",
        "prompt = f\"\"\"\n",
        "Classify these reviews as Positive, Negative, or Mixed:\n",
        "{reviews_text}\n",
        "\"\"\"\n",
        "\n",
        "# Invoke the model with the example prompt\n",
        "response = output.invoke(prompt)\n",
        "\n",
        "# Print the response\n",
        "print(\"Granite Model Response:\\n\")\n",
        "print(response)"
      ],
      "metadata": {
        "colab": {
          "base_uri": "https://localhost:8080/"
        },
        "id": "4PxaYOv8Mr19",
        "outputId": "d1658c97-9b3c-4e1a-f2ce-a0e4d47544a9"
      },
      "execution_count": null,
      "outputs": [
        {
          "output_type": "stream",
          "name": "stdout",
          "text": [
            "Granite Model Response:\n",
            "\n",
            "1. Positive: The battery lasts all day, and the performance is excellent.\n",
            "This review is classified as positive because the user expresses satisfaction with the battery life and overall performance of the device.\n",
            "\n",
            "2. Mixed: The screen is too dim outdoors, but I love the colors indoors.\n",
            "This review is mixed. The user points out a negative aspect (dim screen outdoors) but also highlights a positive feature (good color display indoors).\n",
            "\n",
            "3. Negative: This phone is slow and keeps crashing when I open certain apps.\n",
            "This review is classified as negative. The user criticizes the phone's slow performance and frequent crashing, indicating dissatisfaction with the product.\n"
          ]
        }
      ]
    },
    {
      "cell_type": "code",
      "source": [
        "# Define refined prompt\n",
        "refined_prompt = f\"\"\"\n",
        "Classify these reviews as positive, negative, or mixed, and tag\n",
        "relevant categories (battery life, screen quality, or\n",
        "performance):\n",
        "{reviews_text}\n",
        "\"\"\"\n",
        "# Invoke the model with the example prompt\n",
        "response = output.invoke(refined_prompt)\n",
        "# Print the response\n",
        "print(\"Granite Model Refined Response:\\n\")\n",
        "print(response)"
      ],
      "metadata": {
        "colab": {
          "base_uri": "https://localhost:8080/"
        },
        "id": "cXbgnRKINM0f",
        "outputId": "e5112f2c-032b-4040-9733-1b89fa177246"
      },
      "execution_count": null,
      "outputs": [
        {
          "output_type": "stream",
          "name": "stdout",
          "text": [
            "Granite Model Refined Response:\n",
            "\n",
            "1. Review 1: Positive, Categories - Battery life (positive), Performance (positive)\n",
            "2. Review 2: Mixed, Categories - Screen quality (negative - dim outdoors, positive - good colors indoors)\n",
            "3. Review 3: Negative, Categories - Performance (negative - slow, crashes)\n",
            "\n",
            "In Review 1, the user expresses satisfaction with both battery life and performance, classifying it as positive. Review 2 presents a mixed sentiment, appreciating the screen quality indoors but criticizing its dimness outdoors. This makes it mixed. Lastly, Review 3 is negative, as the user reports issues with the phone's speed and frequent crashes, pointing to poor performance.\n"
          ]
        }
      ]
    },
    {
      "cell_type": "markdown",
      "source": [
        "**Refine the prompt**"
      ],
      "metadata": {
        "id": "pK3OhPuFNr-5"
      }
    },
    {
      "cell_type": "code",
      "source": [
        "# Define the prompt to complete the task in 2 steps\n",
        "multitask_prompt = f\"\"\"\n",
        "Complete the task in 2 steps.\n",
        "Step 1: Classify these reviews as positive, negative, or mixed.\n",
        "Step 2: For each review, identify relevant categories: battery\n",
        "life, screen quality, or performance.\n",
        "{reviews_text}\n",
        "\"\"\"\n",
        "response = output.invoke(multitask_prompt)\n",
        "print(\"Granite Model Response:\\n\")\n",
        "print(response)"
      ],
      "metadata": {
        "colab": {
          "base_uri": "https://localhost:8080/"
        },
        "id": "7q8fRu6RNjMc",
        "outputId": "3ca97b9e-4dbe-4c0d-c34b-70c72aae2e1f"
      },
      "execution_count": null,
      "outputs": [
        {
          "output_type": "stream",
          "name": "stdout",
          "text": [
            "Granite Model Response:\n",
            "\n",
            "**Step 1: Classification**\n",
            "\n",
            "1. Review 1: Positive\n",
            "2. Review 2: Mixed\n",
            "3. Review 3: Negative\n",
            "\n",
            "**Step 2: Identify Relevant Categories**\n",
            "\n",
            "1. Review 1: \n",
            "   - Category: Battery life (positive)\n",
            "   - Category: Performance (positive)\n",
            "\n",
            "2. Review 2: \n",
            "   - Category: Screen quality (negative, dim outdoors)\n",
            "   - Category: Screen quality (positive, good colors indoors)\n",
            "\n",
            "3. Review 3: \n",
            "   - Category: Performance (negative, slow and crashes)\n",
            "   - No explicit mention of battery life or screen quality in this review.\n",
            "\n",
            "Note: Reviews are classified based on the overall sentiment expressed, and categories are identified by the specific features mentioned in each review.\n"
          ]
        }
      ]
    },
    {
      "cell_type": "markdown",
      "source": [
        "**Refine the prompt 2**"
      ],
      "metadata": {
        "id": "6-0-ckWcN1Qg"
      }
    },
    {
      "cell_type": "code",
      "source": [
        "# Define the example to guide the model\n",
        "formatted_prompt = f\"\"\"\n",
        "Classify these reviews as Positive, Negative, or Mixed, and tag\n",
        "relevant categories. Use this format: - Sentiment: [Sentiment] - Categories: [Categories].\n",
        "{reviews_text}\n",
        "\"\"\"\n",
        "# Invoke the model with prompt\n",
        "response = output.invoke(formatted_prompt)\n",
        "# Print the response\n",
        "print(\"Granite Model Formatted Response:\\n\")\n",
        "print(response)"
      ],
      "metadata": {
        "colab": {
          "base_uri": "https://localhost:8080/"
        },
        "id": "vGuTEbRyN4z3",
        "outputId": "3418e1e3-3742-4c75-83f1-d2530c0004b4"
      },
      "execution_count": null,
      "outputs": [
        {
          "output_type": "stream",
          "name": "stdout",
          "text": [
            "Granite Model Formatted Response:\n",
            "\n",
            "- Sentiment: Positive - Categories: Battery life, Performance\n",
            "  - Explanation: The reviewer expresses satisfaction with the battery duration and overall performance of the device.\n",
            "\n",
            "- Sentiment: Mixed - Categories: Screen visibility, Display quality\n",
            "  - Explanation: The review presents a mixed sentiment, praising the display colors indoors but criticizing the dimness outdoors.\n",
            "\n",
            "- Sentiment: Negative - Categories: Performance, Stability\n",
            "  - Explanation: The reviewer expresses dissatisfaction with the phone's slow performance and frequent crashing when opening specific apps.\n"
          ]
        }
      ]
    },
    {
      "cell_type": "markdown",
      "source": [
        "**Summarize the text**"
      ],
      "metadata": {
        "id": "cTHVrCEVOf69"
      }
    },
    {
      "cell_type": "code",
      "source": [
        "customer_meetings = [\n",
        "\"\"\"\n",
        "The meeting began with a discussion of the Q3 marketing budget. It\n",
        "was decided that 40% of the budget will go to digital ads, 30% to\n",
        "events, and 30% to social media campaigns. The team emphasized the\n",
        "need for influencer partnerships to increase brand visibility and\n",
        "email marketing to boost direct engagement. A pilot program to\n",
        "test new ad formats will launch next month, with the team\n",
        "reviewing results by the end of Q3.\n",
        "Later, the team discussed campaign performance metrics. ROI\n",
        "monitoring will be a top priority, and adjustments will be made\n",
        "based on performance data.\n",
        "The events team raised concerns about resource allocation for\n",
        "upcoming trade shows, and it was agreed that an additional $10,000\n",
        "would be reallocated to cover these costs.\n",
        "Lastly, the team reviewed new creative concepts for the upcoming\n",
        "campaign, deciding to proceed with Concept 8, which tested better\n",
        "among focus groups. Deadlines for campaign assets were finalized:\n",
        "all deliverables must be submitted by July 15.\n",
        "\"\"\"\n",
        "]\n",
        "\n",
        "# Refine the prompt to include reviews\n",
        "summarize_text = \"\\n\".join([f\"summary {i+1}: {summary}\" for i, summary in enumerate(customer_meetings)])\n",
        "\n",
        "prompt = f\"\"\"\n",
        "Summarize this meeting:\n",
        "{summarize_text}\n",
        "\"\"\"\n",
        "\n",
        "# Invoke the model with example prompt\n",
        "response = output.invoke(prompt)\n",
        "\n",
        "# Print the response\n",
        "print(\"Granite Model Response:\\n\")\n",
        "print(response)"
      ],
      "metadata": {
        "colab": {
          "base_uri": "https://localhost:8080/"
        },
        "id": "Hk2ZK430OkCQ",
        "outputId": "7e1095c2-8f23-4706-ac06-d5afb4d6cf92"
      },
      "execution_count": null,
      "outputs": [
        {
          "output_type": "stream",
          "name": "stdout",
          "text": [
            "Granite Model Response:\n",
            "\n",
            " In the Q3 marketing budget meeting, the team allocated 40% to digital ads, 30% to events, and 30% to social media campaigns. Emphasis was placed on influencer partnerships, email marketing, and a pilot program for new ad formats, with a review scheduled by the end of Q3. Campaign performance metrics, particularly ROI, will be closely monitored for data-driven adjustments. An extra $10,000 was reallocated to the events team for upcoming trade shows. The team selected Concept 8 for the new campaign based on focus group feedback and set a deadline of July 15 for all campaign assets to be submitted.\n"
          ]
        }
      ]
    },
    {
      "cell_type": "markdown",
      "source": [
        "**Refining Prompt**"
      ],
      "metadata": {
        "id": "fUQOgLP-QbDm"
      }
    },
    {
      "cell_type": "code",
      "source": [
        "# Define refined prompt\n",
        "refined_prompt = f\"\"\"\n",
        "Summarize this meeting in three sentences:\n",
        "{summarize_text}\n",
        "\"\"\"\n",
        "# Invoke the model with refined prompt\n",
        "response = output.invoke(refined_prompt)\n",
        "# Print the response\n",
        "print(\"Granite Model Refined Response:\\n\")\n",
        "print(response)"
      ],
      "metadata": {
        "colab": {
          "base_uri": "https://localhost:8080/"
        },
        "id": "hleZCGT0QevR",
        "outputId": "c3d68cd0-f6dd-4066-c2ce-ef57231cd962"
      },
      "execution_count": null,
      "outputs": [
        {
          "output_type": "stream",
          "name": "stdout",
          "text": [
            "Granite Model Refined Response:\n",
            "\n",
            " In the Q3 marketing budget meeting, it was decided to allocate 40% to digital ads, 30% to events, and 30% to social media campaigns, with a focus on influencer partnerships and email marketing. A pilot program for new ad formats will commence next month, and campaign performance metrics, particularly ROI, will be closely monitored for necessary adjustments. Additionally, an extra $10,000 was approved for the events team's trade show resources, and Concept 8 was chosen for the upcoming campaign, with all assets due by July 15.\n"
          ]
        }
      ]
    },
    {
      "cell_type": "markdown",
      "source": [
        "Refining Prompt **2**"
      ],
      "metadata": {
        "id": "kFTo251MRdVD"
      }
    },
    {
      "cell_type": "code",
      "source": [
        "# Define the prompt with refined focus area prompt\n",
        "refined_focusarea_prompt = f\"\"\"\n",
        "Summarize this meeting by focusing on key points, decisions made,\n",
        "and action items and categorize it:\n",
        "{summarize_text}\n",
        "\"\"\"\n",
        "response = output.invoke(refined_focusarea_prompt)\n",
        "print(\"Granite Model Response for refined focus area response:\\n\")\n",
        "print(response)"
      ],
      "metadata": {
        "colab": {
          "base_uri": "https://localhost:8080/"
        },
        "id": "VZvmKDT9RiTU",
        "outputId": "38dce16c-2dd2-4778-abce-60bb31ffc69d"
      },
      "execution_count": null,
      "outputs": [
        {
          "output_type": "stream",
          "name": "stdout",
          "text": [
            "Granite Model Response for refined focus area response:\n",
            "\n",
            " **Summary:**\n",
            "\n",
            "**Category:** Q3 Marketing Budget and Campaign Planning\n",
            "\n",
            "**Key Points and Decisions:**\n",
            "\n",
            "1. **Budget Allocation:**\n",
            "   - 40% of the Q3 marketing budget will be allocated to digital ads.\n",
            "   - 30% will be used for events, with an additional $10,000 reallocation to address resource concerns for upcoming trade shows.\n",
            "   - 30% will fund social media campaigns.\n",
            "   - Influencer partnerships and email marketing will be prioritized to enhance brand visibility and direct engagement.\n",
            "\n",
            "2. **Pilot Program:**\n",
            "   - A pilot program testing new ad formats will commence next month, with a review planned by the end of Q3 to assess its effectiveness.\n",
            "\n",
            "3. **Performance Metrics and ROI:**\n",
            "   - Close monitoring of campaign performance metrics with a focus on ROI.\n",
            "   - Adjustments will be made based on performance data analysis.\n",
            "\n",
            "4. **Creative Concepts:**\n",
            "   - Concept 8 was chosen for the upcoming campaign following positive feedback from focus groups.\n",
            "   - Deadlines were set with all campaign assets needing submission by July 15.\n",
            "\n",
            "**Action Items:**\n",
            "\n",
            "1. **Budget Implementation:**\n",
            "   - Finalize the 40/30/30 budget split between digital ads, events, and social media campaigns.\n",
            "   - Reallocate $10,000 for trade show resources.\n",
            "\n",
            "2. **Pilot Program Execution:**\n",
            "   - Launch the pilot program for new ad formats next month.\n",
            "   - Prepare for a review and decision-making on ad format effectiveness by the end of Q3.\n",
            "\n",
            "3. **Performance Tracking:**\n",
            "   - Establish a system for real-time monitoring of campaign performance metrics.\n",
            "   - Schedule regular reviews to adjust strategies based on ROI and performance data.\n",
            "\n",
            "4. **Creative Development:**\n",
            "   - Proceed with Campaign Concept 8.\n",
            "   - Ensure all campaign assets are completed and submitted by July 15.\n",
            "\n",
            "This summary captures the essential decisions made and action items arising from the meeting, focusing on the Q3 marketing budget allocation, pilot programs, performance metrics, and creative concept selection.\n"
          ]
        }
      ]
    },
    {
      "cell_type": "markdown",
      "source": [
        "**Refining prompt 3**"
      ],
      "metadata": {
        "id": "0pIhJeaXSVEd"
      }
    },
    {
      "cell_type": "code",
      "source": [
        "# Define the prompt with refined output prompt\n",
        "refined_outputformat_prompt = f\"\"\"\n",
        "Summarize this meeting into a structured format using the following\n",
        "headings: Key Points Discussed, Decisions Made, and Action Items.\n",
        "Mention timelines.\n",
        "Include only two concise bullet points under each heading.\n",
        "{summarize_text}\n",
        "\"\"\"\n",
        "response = output.invoke(refined_outputformat_prompt)\n",
        "print(\"Granite Model Response for refined output format response:\\n\")\n",
        "print(response)\n"
      ],
      "metadata": {
        "colab": {
          "base_uri": "https://localhost:8080/"
        },
        "id": "yUz-cEJ4SZIw",
        "outputId": "75c3c9be-c586-462b-b57b-2b07ede12abd"
      },
      "execution_count": null,
      "outputs": [
        {
          "output_type": "stream",
          "name": "stdout",
          "text": [
            "Granite Model Response for refined output format response:\n",
            "\n",
            " ### Summary of Meeting\n",
            "\n",
            "**Key Points Discussed:**\n",
            "- Allocation of Q3 marketing budget: 40% to digital ads, 30% to events, and 30% to social media campaigns.\n",
            "- Importance of influencer partnerships and email marketing for brand visibility and direct engagement.\n",
            "\n",
            "**Decisions Made:**\n",
            "- Approval to launch a pilot program for new ad formats next month, with a review scheduled by the end of Q3.\n",
            "- Prioritization of ROI monitoring for campaign performance, with adjustments to be made based on data.\n",
            "- Reallocation of an additional $10,000 to the events team for upcoming trade shows.\n",
            "- Selection of Concept 8 for the upcoming campaign, following better performance in focus group testing.\n",
            "- Finalization of deadlines: all campaign assets to be submitted by July 15.\n",
            "\n",
            "**Action Items:**\n",
            "- Digital marketing team to finalize digital ad strategies and influencer partnership plans.\n",
            "- Finance team to adjust the budget, reallocating $10,000 for events.\n",
            "- Events team to prepare for trade shows with the new funds.\n",
            "- Creative team to proceed with assets development for Concept 8, ensuring completion by July 15.\n",
            "- Marketing manager to oversee ROI monitoring and performance-based adjustments.\n"
          ]
        }
      ]
    }
  ]
}